{
 "cells": [
  {
   "cell_type": "code",
   "execution_count": 1,
   "metadata": {},
   "outputs": [
    {
     "name": "stderr",
     "output_type": "stream",
     "text": [
      "Using TensorFlow backend.\n"
     ]
    }
   ],
   "source": [
    "from experiment import run_experiment"
   ]
  },
  {
   "cell_type": "code",
   "execution_count": 2,
   "metadata": {
    "scrolled": false
   },
   "outputs": [
    {
     "name": "stderr",
     "output_type": "stream",
     "text": [
      "INFO - ISMI - Running command 'run'\n",
      "INFO - ISMI - Started run with ID \"180\"\n"
     ]
    },
    {
     "name": "stdout",
     "output_type": "stream",
     "text": [
      "[!] Loading data\n",
      "[!] Creating validation_generator\n",
      "[!] Creating train_generator\n",
      "[!] Creating test_generator\n",
      "[!] Building model\n",
      "WARNING:tensorflow:From /scratch/tdeboer/ismi/Project/models/capsulelayers.py:144: calling softmax (from tensorflow.python.ops.nn_ops) with dim is deprecated and will be removed in a future version.\n",
      "Instructions for updating:\n",
      "dim is deprecated, use axis instead\n"
     ]
    },
    {
     "name": "stderr",
     "output_type": "stream",
     "text": [
      "WARNING - tensorflow - From /scratch/tdeboer/ismi/Project/models/capsulelayers.py:144: calling softmax (from tensorflow.python.ops.nn_ops) with dim is deprecated and will be removed in a future version.\n",
      "Instructions for updating:\n",
      "dim is deprecated, use axis instead\n"
     ]
    },
    {
     "name": "stdout",
     "output_type": "stream",
     "text": [
      "[!] Training model\n",
      "Epoch 1/2\n",
      "7/7 [==============================] - 17s 2s/step - loss: 6.6390 - capsnet_loss: 5.9462 - decoder_loss: 0.6928 - capsnet_acc: 0.5155 - decoder_acc: 0.0246 - val_loss: 7.2505 - val_capsnet_loss: 6.5587 - val_decoder_loss: 0.6918 - val_capsnet_acc: 0.5500 - val_decoder_acc: 0.0228\n",
      "True\n",
      "\n",
      "Epoch 00001: val_loss improved from inf to 7.25046, saving model to checkpoints/model-1558446399.1512394.hdf5\n",
      "Epoch 2/2\n",
      "7/7 [==============================] - 11s 2s/step - loss: 6.8485 - capsnet_loss: 6.1590 - decoder_loss: 0.6895 - capsnet_acc: 0.5661 - decoder_acc: 0.0297 - val_loss: 6.0656 - val_capsnet_loss: 5.3809 - val_decoder_loss: 0.6846 - val_capsnet_acc: 0.5500 - val_decoder_acc: 0.0235\n",
      "True\n",
      "\n",
      "Epoch 00002: val_loss improved from 7.25046 to 6.06556, saving model to checkpoints/model-1558446399.1512394.hdf5\n"
     ]
    },
    {
     "name": "stderr",
     "output_type": "stream",
     "text": [
      "INFO - ISMI - Completed after 0:00:40\n"
     ]
    },
    {
     "data": {
      "text/plain": [
       "<sacred.run.Run at 0x2b484ccea940>"
      ]
     },
     "execution_count": 2,
     "metadata": {},
     "output_type": "execute_result"
    }
   ],
   "source": [
    "config = {'model': 'capsnet',\n",
    "               'use_augment': True,\n",
    "               'model_params': {'weights': None},\n",
    "               'epochs': 2,\n",
    "               'use_capsnet': True,\n",
    "               'batch_size': 32,\n",
    "               'target_size':(96,96),\n",
    "               'only_use_subset':True}\n",
    "\n",
    "run_experiment(config, predict_test=False)"
   ]
  },
  {
   "cell_type": "code",
   "execution_count": null,
   "metadata": {},
   "outputs": [],
   "source": []
  }
 ],
 "metadata": {
  "kernelspec": {
   "display_name": "Python 3",
   "language": "python",
   "name": "python3"
  },
  "language_info": {
   "codemirror_mode": {
    "name": "ipython",
    "version": 3
   },
   "file_extension": ".py",
   "mimetype": "text/x-python",
   "name": "python",
   "nbconvert_exporter": "python",
   "pygments_lexer": "ipython3",
   "version": "3.6.8"
  }
 },
 "nbformat": 4,
 "nbformat_minor": 2
}
