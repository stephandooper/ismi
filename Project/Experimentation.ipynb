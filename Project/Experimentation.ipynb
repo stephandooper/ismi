{
 "cells": [
  {
   "cell_type": "code",
   "execution_count": null,
   "metadata": {
    "scrolled": false
   },
   "outputs": [],
   "source": [
    "'''\n",
    "from experiment import run_experiment\n",
    "config = {'model': 'recnn',\n",
    "               'use_augment': False,           \n",
    "               'epochs': 10,\n",
    "               'batch_size': 32,\n",
    "               'target_size':(96,96),\n",
    "               'only_use_subset':False}\n",
    "\n",
    "run_experiment(config, predict_test=\"recnn_no_augmentation\")\n",
    "'''"
   ]
  },
  {
   "cell_type": "code",
   "execution_count": 1,
   "metadata": {
    "scrolled": true
   },
   "outputs": [
    {
     "name": "stderr",
     "output_type": "stream",
     "text": [
      "Using TensorFlow backend.\n",
      "INFO - ISMI - Running command 'run'\n",
      "INFO - ISMI - Started run with ID \"278\"\n"
     ]
    },
    {
     "name": "stdout",
     "output_type": "stream",
     "text": [
      "[!] Loading data\n",
      "[!] Creating validation_generator\n",
      "[!] Creating train_generator\n",
      "[!] Creating test_generator\n",
      "[!] Building model\n",
      "_________________________________________________________________\n",
      "Layer (type)                 Output Shape              Param #   \n",
      "=================================================================\n",
      "input_1 (InputLayer)         (None, 96, 96, 3)         0         \n",
      "_________________________________________________________________\n",
      "conv2d_1 (Conv2D)            (None, 94, 94, 32)        896       \n",
      "_________________________________________________________________\n",
      "conv2d_2 (Conv2D)            (None, 46, 46, 64)        18496     \n",
      "_________________________________________________________________\n",
      "batch_normalization_1 (Batch (None, 46, 46, 64)        256       \n",
      "_________________________________________________________________\n",
      "leaky_re_lu_1 (LeakyReLU)    (None, 46, 46, 64)        0         \n",
      "_________________________________________________________________\n",
      "conv2d_3 (Conv2D)            (None, 44, 44, 64)        36928     \n",
      "_________________________________________________________________\n",
      "conv2d_4 (Conv2D)            (None, 21, 21, 128)       73856     \n",
      "_________________________________________________________________\n",
      "batch_normalization_2 (Batch (None, 21, 21, 128)       512       \n",
      "_________________________________________________________________\n",
      "leaky_re_lu_2 (LeakyReLU)    (None, 21, 21, 128)       0         \n",
      "_________________________________________________________________\n",
      "conv2d_5 (Conv2D)            (None, 19, 19, 128)       147584    \n",
      "_________________________________________________________________\n",
      "conv2d_6 (Conv2D)            (None, 9, 9, 256)         295168    \n",
      "_________________________________________________________________\n",
      "batch_normalization_3 (Batch (None, 9, 9, 256)         1024      \n",
      "_________________________________________________________________\n",
      "leaky_re_lu_3 (LeakyReLU)    (None, 9, 9, 256)         0         \n",
      "_________________________________________________________________\n",
      "conv2d_7 (Conv2D)            (None, 7, 7, 256)         590080    \n",
      "_________________________________________________________________\n",
      "conv2d_8 (Conv2D)            (None, 3, 3, 512)         1180160   \n",
      "_________________________________________________________________\n",
      "batch_normalization_4 (Batch (None, 3, 3, 512)         2048      \n",
      "_________________________________________________________________\n",
      "leaky_re_lu_4 (LeakyReLU)    (None, 3, 3, 512)         0         \n",
      "_________________________________________________________________\n",
      "conv2d_9 (Conv2D)            (None, 1, 1, 512)         2359808   \n",
      "_________________________________________________________________\n",
      "global_average_pooling2d_1 ( (None, 512)               0         \n",
      "_________________________________________________________________\n",
      "dropout_1 (Dropout)          (None, 512)               0         \n",
      "_________________________________________________________________\n",
      "dense_1 (Dense)              (None, 512)               262656    \n",
      "_________________________________________________________________\n",
      "dense_2 (Dense)              (None, 1)                 513       \n",
      "=================================================================\n",
      "Total params: 4,969,985\n",
      "Trainable params: 4,968,065\n",
      "Non-trainable params: 1,920\n",
      "_________________________________________________________________\n",
      "[!] Training model\n",
      "Epoch 1/10\n",
      "7/7 [==============================] - 3s 395ms/step - loss: 6.1567 - acc: 0.5525 - val_loss: 7.1741 - val_acc: 0.5500\n",
      "\n",
      "Epoch 00001: val_loss improved from inf to 7.17407, saving model to checkpoints/model-1559653257.2781215.hdf5\n",
      "Epoch 2/10\n",
      "7/7 [==============================] - 0s 49ms/step - loss: 6.3570 - acc: 0.6013 - val_loss: 7.1741 - val_acc: 0.5500\n",
      "\n",
      "Epoch 00002: val_loss did not improve from 7.17407\n",
      "Epoch 3/10\n",
      "7/7 [==============================] - 0s 45ms/step - loss: 7.1043 - acc: 0.5544 - val_loss: 7.1741 - val_acc: 0.5500\n",
      "\n",
      "Epoch 00003: val_loss did not improve from 7.17407\n",
      "Epoch 4/10\n",
      "7/7 [==============================] - 0s 43ms/step - loss: 6.9175 - acc: 0.5661 - val_loss: 7.1741 - val_acc: 0.5500\n",
      "\n",
      "Epoch 00004: val_loss did not improve from 7.17407\n",
      "Epoch 5/10\n",
      "7/7 [==============================] - 0s 43ms/step - loss: 7.6648 - acc: 0.5192 - val_loss: 7.1741 - val_acc: 0.5500\n",
      "\n",
      "Epoch 00005: val_loss did not improve from 7.17407\n",
      "Epoch 6/10\n",
      "7/7 [==============================] - 0s 44ms/step - loss: 7.1043 - acc: 0.5544 - val_loss: 7.1741 - val_acc: 0.5500\n",
      "\n",
      "Epoch 00006: val_loss did not improve from 7.17407\n",
      "Epoch 7/10\n",
      "7/7 [==============================] - 0s 43ms/step - loss: 6.5439 - acc: 0.5895 - val_loss: 7.1741 - val_acc: 0.5500\n",
      "\n",
      "Epoch 00007: val_loss did not improve from 7.17407\n",
      "Epoch 8/10\n",
      "7/7 [==============================] - 0s 43ms/step - loss: 7.1043 - acc: 0.5544 - val_loss: 7.1741 - val_acc: 0.5500\n",
      "\n",
      "Epoch 00008: val_loss did not improve from 7.17407\n",
      "Epoch 9/10\n",
      "7/7 [==============================] - 0s 46ms/step - loss: 7.6648 - acc: 0.5192 - val_loss: 7.1741 - val_acc: 0.5500\n",
      "\n",
      "Epoch 00009: val_loss did not improve from 7.17407\n",
      "Epoch 10/10\n",
      "7/7 [==============================] - 0s 44ms/step - loss: 7.1043 - acc: 0.5544 - val_loss: 7.1741 - val_acc: 0.5500\n",
      "\n",
      "Epoch 00010: val_loss did not improve from 7.17407\n",
      "[!] Predicting validation set\n",
      "7/7 [==============================] - 0s 39ms/step\n",
      "[!] Predicting test set\n",
      "4/4 [==============================] - 0s 26ms/step\n"
     ]
    },
    {
     "data": {
      "text/html": [
       "Prediction saved to file: <a target=\"_blank\" href=\"./predictions/test_custom_convnet_no_augmentation.csv\">data/custom_convnet_no_augmentation.csv</a>"
      ],
      "text/plain": [
       "<IPython.core.display.HTML object>"
      ]
     },
     "metadata": {},
     "output_type": "display_data"
    },
    {
     "name": "stderr",
     "output_type": "stream",
     "text": [
      "INFO - ISMI - Completed after 0:00:22\n"
     ]
    },
    {
     "data": {
      "text/plain": [
       "<sacred.run.Run at 0x2b3cb3212f60>"
      ]
     },
     "execution_count": 1,
     "metadata": {},
     "output_type": "execute_result"
    }
   ],
   "source": [
    "from experiment import run_experiment\n",
    "config = {'model': 'convnet',\n",
    "               'use_augment': False,           \n",
    "               'epochs': 10,\n",
    "               'batch_size': 32,\n",
    "               'target_size':(96,96),\n",
    "               'reduce_lr_on_plateau': True,\n",
    "               'lr':0.01,\n",
    "               'only_use_subset':True}\n",
    "\n",
    "run_experiment(config, predict_test=\"custom_convnet_no_augmentation\", predict_val=\"custom_convnet_no_augmentation\")"
   ]
  }
 ],
 "metadata": {
  "kernelspec": {
   "display_name": "Python 3",
   "language": "python",
   "name": "python3"
  },
  "language_info": {
   "codemirror_mode": {
    "name": "ipython",
    "version": 3
   },
   "file_extension": ".py",
   "mimetype": "text/x-python",
   "name": "python",
   "nbconvert_exporter": "python",
   "pygments_lexer": "ipython3",
   "version": "3.6.8"
  }
 },
 "nbformat": 4,
 "nbformat_minor": 2
}
