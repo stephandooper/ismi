{
 "cells": [
  {
   "cell_type": "code",
   "execution_count": 1,
   "metadata": {},
   "outputs": [
    {
     "name": "stderr",
     "output_type": "stream",
     "text": [
      "Using TensorFlow backend.\n"
     ]
    }
   ],
   "source": [
    "from experiment import run_experiment"
   ]
  },
  {
   "cell_type": "code",
   "execution_count": 2,
   "metadata": {},
   "outputs": [
    {
     "name": "stderr",
     "output_type": "stream",
     "text": [
      "INFO - ISMI - Running command 'run'\n",
      "INFO - ISMI - Started run with ID \"33\"\n"
     ]
    },
    {
     "name": "stdout",
     "output_type": "stream",
     "text": [
      "Loading data!\n",
      "Creating validation_generator\n",
      "Creating train_generator\n",
      "Creating test_generator\n",
      "Building model!\n",
      "Training model!\n",
      "Epoch 1/2\n",
      "313/313 [==============================] - 18s 57ms/step - loss: 0.5629 - acc: 0.7273 - val_loss: 0.6077 - val_acc: 0.6895\n",
      "Epoch 2/2\n",
      "313/313 [==============================] - 17s 55ms/step - loss: 0.4898 - acc: 0.7723 - val_loss: 0.5118 - val_acc: 0.7484\n"
     ]
    },
    {
     "name": "stderr",
     "output_type": "stream",
     "text": [
      "INFO - ISMI - Completed after 0:00:46\n"
     ]
    },
    {
     "data": {
      "text/plain": [
       "<sacred.run.Run at 0x2b8c550e66d8>"
      ]
     },
     "execution_count": 2,
     "metadata": {},
     "output_type": "execute_result"
    }
   ],
   "source": [
    "config = {'model': 'dense',\n",
    "               'model_params': {'weights': None},\n",
    "               'epochs': 2,\n",
    "               'batch_size': 32,\n",
    "               'target_size':(96,96),\n",
    "               'only_use_subset':True}\n",
    "\n",
    "run_experiment(config, predict_test=False)"
   ]
  },
  {
   "cell_type": "code",
   "execution_count": null,
   "metadata": {},
   "outputs": [],
   "source": [
    "config = {'model': 'resnet',\n",
    "               'model_params': {'weights': 'imagenet'},\n",
    "               'epochs': 2,\n",
    "               'batch_size': 32,\n",
    "               'target_size':(96,96),\n",
    "               'only_use_subset':True}\n",
    "\n",
    "run_experiment(config)"
   ]
  },
  {
   "cell_type": "code",
   "execution_count": null,
   "metadata": {},
   "outputs": [],
   "source": []
  }
 ],
 "metadata": {
  "kernelspec": {
   "display_name": "Python 3",
   "language": "python",
   "name": "python3"
  },
  "language_info": {
   "codemirror_mode": {
    "name": "ipython",
    "version": 3
   },
   "file_extension": ".py",
   "mimetype": "text/x-python",
   "name": "python",
   "nbconvert_exporter": "python",
   "pygments_lexer": "ipython3",
   "version": "3.6.8"
  }
 },
 "nbformat": 4,
 "nbformat_minor": 2
}
