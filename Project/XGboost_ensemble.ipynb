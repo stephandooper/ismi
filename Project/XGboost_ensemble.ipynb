{
 "cells": [
  {
   "cell_type": "code",
   "execution_count": 1,
   "metadata": {},
   "outputs": [
    {
     "name": "stderr",
     "output_type": "stream",
     "text": [
      "Using TensorFlow backend.\n"
     ]
    }
   ],
   "source": [
    "import pandas as pd\n",
    "import numpy as np\n",
    "from time import time\n",
    "from data.data import load_data\n",
    "from sklearn.model_selection import GridSearchCV, train_test_split\n",
    "from xgboost import XGBClassifier, plot_importance\n",
    "from sklearn.metrics import accuracy_score\n",
    "import seaborn as sns\n",
    "import matplotlib.pyplot as plt\n",
    "import os\n",
    "os.environ['HDF5_USE_FILE_LOCKING'] = 'FALSE'"
   ]
  },
  {
   "cell_type": "code",
   "execution_count": 2,
   "metadata": {},
   "outputs": [],
   "source": [
    "# TODO fill this cell out\n",
    "\n",
    "# Give this run a title\n",
    "#run = 'capsnet_15+capsnet_bn+convnet_15+nasnet_15+recnn_15_aug'\n",
    "run = 'convnet+nasnet_15+recnn_15_aug'\n",
    "\n",
    "# Add validation files\n",
    "capsnet_val = pd.read_csv('./ensemble/validation_capsnet_15epoch_aug.csv')\n",
    "capsnet_bn_val = pd.read_csv('./ensemble/validation_capsnet_bn_15epochs.csv')\n",
    "convnet_val = pd.read_csv('./ensemble/validation_convnet_15epoch_new.csv')\n",
    "nasnet_val = pd.read_csv('./ensemble/validation_Nasnet_15epoch_aug.csv')\n",
    "recnn_val = pd.read_csv('./ensemble/validation_recnn_15epoch_aug_regenerated.csv')\n",
    "#datas = [capsnet_val, capsnet_bn_val, convnet_val, nasnet_val, recnn_val]\n",
    "datas = [convnet_val, nasnet_val, recnn_val]\n",
    "\n",
    "# Add test files\n",
    "capsnet_test = pd.read_csv('./ensemble/test_capsnet_15epoch_aug.csv')\n",
    "capsnet_bn_test = pd.read_csv('./ensemble/test_capsnet_bn_15epochs.csv')\n",
    "convnet_test = pd.read_csv('./ensemble/test_convnet_15epoch_new.csv')\n",
    "nasnet_test = pd.read_csv('./ensemble/test_Nasnet_15epoch_aug.csv')\n",
    "recnn_test = pd.read_csv('./ensemble/test_recnn_15epoch_aug_regenerated.csv')\n",
    "#tests = [capsnet_test, capsnet_bn_test, convnet_test, nasnet_test, recnn_test]\n",
    "tests = [convnet_test, nasnet_test, recnn_test]"
   ]
  },
  {
   "cell_type": "code",
   "execution_count": 3,
   "metadata": {},
   "outputs": [],
   "source": [
    "# Create x and y datasets\n",
    "x_total_train = np.stack(([x['prediction'] for x in datas]), axis=1)\n",
    "_, (_, y_pred_val, _), _ = load_data()\n",
    "y_total_train = np.ravel(y_pred_val)\n",
    "x_train, x_valid, y_train, y_valid = train_test_split(x_total_train, y_total_train)\n",
    "\n",
    "# Create x testset\n",
    "x_test = np.stack(([x['prediction'] for x in tests]), axis=1)"
   ]
  },
  {
   "cell_type": "code",
   "execution_count": 4,
   "metadata": {},
   "outputs": [
    {
     "data": {
      "text/html": [
       "<div>\n",
       "<style scoped>\n",
       "    .dataframe tbody tr th:only-of-type {\n",
       "        vertical-align: middle;\n",
       "    }\n",
       "\n",
       "    .dataframe tbody tr th {\n",
       "        vertical-align: top;\n",
       "    }\n",
       "\n",
       "    .dataframe thead th {\n",
       "        text-align: right;\n",
       "    }\n",
       "</style>\n",
       "<table border=\"1\" class=\"dataframe\">\n",
       "  <thead>\n",
       "    <tr style=\"text-align: right;\">\n",
       "      <th></th>\n",
       "      <th>convnet_val</th>\n",
       "      <th>nasnet_val</th>\n",
       "      <th>recnn_val</th>\n",
       "    </tr>\n",
       "  </thead>\n",
       "  <tbody>\n",
       "    <tr>\n",
       "      <th>convnet_val</th>\n",
       "      <td>1.000000</td>\n",
       "      <td>0.871535</td>\n",
       "      <td>0.885791</td>\n",
       "    </tr>\n",
       "    <tr>\n",
       "      <th>nasnet_val</th>\n",
       "      <td>0.871535</td>\n",
       "      <td>1.000000</td>\n",
       "      <td>0.869997</td>\n",
       "    </tr>\n",
       "    <tr>\n",
       "      <th>recnn_val</th>\n",
       "      <td>0.885791</td>\n",
       "      <td>0.869997</td>\n",
       "      <td>1.000000</td>\n",
       "    </tr>\n",
       "  </tbody>\n",
       "</table>\n",
       "</div>"
      ],
      "text/plain": [
       "             convnet_val  nasnet_val  recnn_val\n",
       "convnet_val     1.000000    0.871535   0.885791\n",
       "nasnet_val      0.871535    1.000000   0.869997\n",
       "recnn_val       0.885791    0.869997   1.000000"
      ]
     },
     "execution_count": 4,
     "metadata": {},
     "output_type": "execute_result"
    }
   ],
   "source": [
    "# Correlation matrix on validation files\n",
    "predictions = {'convnet_val': convnet_val['prediction'],\n",
    "              'nasnet_val': nasnet_val['prediction'],\n",
    "              'recnn_val': recnn_val['prediction']}\n",
    "df_predictions = pd.DataFrame(data=predictions) \n",
    "df_predictions.corr()"
   ]
  },
  {
   "cell_type": "code",
   "execution_count": 5,
   "metadata": {},
   "outputs": [
    {
     "data": {
      "image/png": "[encoded data removed]",
      "text/plain": [
       "<Figure size 648x648 with 2 Axes>"
      ]
     },
     "metadata": {
      "needs_background": "light"
     },
     "output_type": "display_data"
    }
   ],
   "source": [
    "# Plot validation correlations\n",
    "plt.figure(figsize=(9, 9))\n",
    "sns.set(font_scale=1.25)\n",
    "sns.heatmap(df_predictions.corr(), linewidths=1.5, annot=True, square=True, \n",
    "                fmt='.2f', annot_kws={'size': 10}, \n",
    "                yticklabels=df_predictions.columns , xticklabels=df_predictions.columns\n",
    "            )\n",
    "plt.yticks(rotation=0)\n",
    "plt.show()"
   ]
  },
  {
   "cell_type": "code",
   "execution_count": 6,
   "metadata": {},
   "outputs": [
    {
     "data": {
      "text/html": [
       "<div>\n",
       "<style scoped>\n",
       "    .dataframe tbody tr th:only-of-type {\n",
       "        vertical-align: middle;\n",
       "    }\n",
       "\n",
       "    .dataframe tbody tr th {\n",
       "        vertical-align: top;\n",
       "    }\n",
       "\n",
       "    .dataframe thead th {\n",
       "        text-align: right;\n",
       "    }\n",
       "</style>\n",
       "<table border=\"1\" class=\"dataframe\">\n",
       "  <thead>\n",
       "    <tr style=\"text-align: right;\">\n",
       "      <th></th>\n",
       "      <th>convnet_test</th>\n",
       "      <th>nasnet_test</th>\n",
       "      <th>recnn_test</th>\n",
       "    </tr>\n",
       "  </thead>\n",
       "  <tbody>\n",
       "    <tr>\n",
       "      <th>convnet_test</th>\n",
       "      <td>1.000000</td>\n",
       "      <td>0.835652</td>\n",
       "      <td>0.867552</td>\n",
       "    </tr>\n",
       "    <tr>\n",
       "      <th>nasnet_test</th>\n",
       "      <td>0.835652</td>\n",
       "      <td>1.000000</td>\n",
       "      <td>0.853192</td>\n",
       "    </tr>\n",
       "    <tr>\n",
       "      <th>recnn_test</th>\n",
       "      <td>0.867552</td>\n",
       "      <td>0.853192</td>\n",
       "      <td>1.000000</td>\n",
       "    </tr>\n",
       "  </tbody>\n",
       "</table>\n",
       "</div>"
      ],
      "text/plain": [
       "              convnet_test  nasnet_test  recnn_test\n",
       "convnet_test      1.000000     0.835652    0.867552\n",
       "nasnet_test       0.835652     1.000000    0.853192\n",
       "recnn_test        0.867552     0.853192    1.000000"
      ]
     },
     "execution_count": 6,
     "metadata": {},
     "output_type": "execute_result"
    }
   ],
   "source": [
    "# Correlation matrix on test files\n",
    "predictions = {'convnet_test': convnet_test['prediction'],\n",
    "              'nasnet_test': nasnet_test['prediction'],\n",
    "              'recnn_test': recnn_test['prediction']}\n",
    "df_predictions = pd.DataFrame(data=predictions) \n",
    "df_predictions.corr()"
   ]
  },
  {
   "cell_type": "code",
   "execution_count": 7,
   "metadata": {},
   "outputs": [
    {
     "data": {
      "image/png": "[encoded data removed]",
      "text/plain": [
       "<Figure size 648x648 with 2 Axes>"
      ]
     },
     "metadata": {},
     "output_type": "display_data"
    }
   ],
   "source": [
    "# Plot correlations\n",
    "plt.figure(figsize=(9, 9))\n",
    "sns.set(font_scale=1.25)\n",
    "sns.heatmap(df_predictions.corr(), linewidths=1.5, annot=True, square=True, \n",
    "                fmt='.2f', annot_kws={'size': 10}, \n",
    "                yticklabels=df_predictions.columns , xticklabels=df_predictions.columns\n",
    "            )\n",
    "plt.yticks(rotation=0)\n",
    "plt.show()"
   ]
  },
  {
   "cell_type": "code",
   "execution_count": 8,
   "metadata": {},
   "outputs": [
    {
     "name": "stdout",
     "output_type": "stream",
     "text": [
      "Fitting 5 folds for each of 135 candidates, totalling 675 fits\n"
     ]
    },
    {
     "name": "stderr",
     "output_type": "stream",
     "text": [
      "[Parallel(n_jobs=16)]: Using backend LokyBackend with 16 concurrent workers.\n",
      "[Parallel(n_jobs=16)]: Done   9 tasks      | elapsed:    8.1s\n",
      "[Parallel(n_jobs=16)]: Done  18 tasks      | elapsed:   14.5s\n",
      "[Parallel(n_jobs=16)]: Done  29 tasks      | elapsed:   19.6s\n",
      "[Parallel(n_jobs=16)]: Done  40 tasks      | elapsed:   23.8s\n",
      "[Parallel(n_jobs=16)]: Done  53 tasks      | elapsed:   31.5s\n",
      "[Parallel(n_jobs=16)]: Done  66 tasks      | elapsed:   41.7s\n",
      "[Parallel(n_jobs=16)]: Done  81 tasks      | elapsed:   46.7s\n",
      "[Parallel(n_jobs=16)]: Done  96 tasks      | elapsed:   53.1s\n",
      "[Parallel(n_jobs=16)]: Done 113 tasks      | elapsed:  1.0min\n",
      "[Parallel(n_jobs=16)]: Done 130 tasks      | elapsed:  1.2min\n",
      "[Parallel(n_jobs=16)]: Done 149 tasks      | elapsed:  1.3min\n",
      "[Parallel(n_jobs=16)]: Done 168 tasks      | elapsed:  1.4min\n",
      "[Parallel(n_jobs=16)]: Done 189 tasks      | elapsed:  1.6min\n",
      "[Parallel(n_jobs=16)]: Done 210 tasks      | elapsed:  1.8min\n",
      "[Parallel(n_jobs=16)]: Done 233 tasks      | elapsed:  2.0min\n",
      "[Parallel(n_jobs=16)]: Done 256 tasks      | elapsed:  2.1min\n",
      "[Parallel(n_jobs=16)]: Done 281 tasks      | elapsed:  2.3min\n",
      "[Parallel(n_jobs=16)]: Done 306 tasks      | elapsed:  2.5min\n",
      "[Parallel(n_jobs=16)]: Done 333 tasks      | elapsed:  2.7min\n",
      "[Parallel(n_jobs=16)]: Done 360 tasks      | elapsed:  2.9min\n",
      "[Parallel(n_jobs=16)]: Done 389 tasks      | elapsed:  3.2min\n",
      "[Parallel(n_jobs=16)]: Done 418 tasks      | elapsed:  3.4min\n",
      "[Parallel(n_jobs=16)]: Done 449 tasks      | elapsed:  3.7min\n",
      "[Parallel(n_jobs=16)]: Done 480 tasks      | elapsed:  3.8min\n",
      "[Parallel(n_jobs=16)]: Done 513 tasks      | elapsed:  4.2min\n",
      "[Parallel(n_jobs=16)]: Done 546 tasks      | elapsed:  4.4min\n",
      "[Parallel(n_jobs=16)]: Done 581 tasks      | elapsed:  4.6min\n",
      "[Parallel(n_jobs=16)]: Done 616 tasks      | elapsed:  4.9min\n",
      "[Parallel(n_jobs=16)]: Done 675 out of 675 | elapsed:  5.4min finished\n"
     ]
    },
    {
     "name": "stdout",
     "output_type": "stream",
     "text": [
      "GridSearch took 323.85 seconds to complete.\n"
     ]
    },
    {
     "data": {
      "text/plain": [
       "{'gamma': 0.1, 'learning_rate': 0.2, 'max_depth': 8, 'min_child_weight': 1}"
      ]
     },
     "metadata": {},
     "output_type": "display_data"
    }
   ],
   "source": [
    "# Parameter tuning\n",
    "xg_model = XGBClassifier(n_estimators=100, seed = 1234)\n",
    "param_dict = {'max_depth': [3,4,5,6,8],\n",
    "              'min_child_weight': [1,2,3],\n",
    "              'learning_rate': [00.1,0.15,0.2],\n",
    "              'gamma': [0, 0.1, 0.2]\n",
    "}\n",
    "\n",
    "start = time()\n",
    "grid_search = GridSearchCV(xg_model, param_dict, cv=5, verbose=10, n_jobs=16)\n",
    "grid_search.fit(x_train, y_train)\n",
    "print(\"GridSearch took %.2f seconds to complete.\" % (time()-start))\n",
    "display(grid_search.best_params_)\n",
    "best = grid_search.best_params_"
   ]
  },
  {
   "cell_type": "code",
   "execution_count": 9,
   "metadata": {},
   "outputs": [
    {
     "name": "stdout",
     "output_type": "stream",
     "text": [
      "Model took 14.69 seconds to complete.\n",
      "Validation accuracy: 0.9205\n"
     ]
    }
   ],
   "source": [
    "# Fitting the model\n",
    "\n",
    "#best_no_conv = {'gamma': 0.2, 'learning_rate': 0.15, 'max_depth': 10, 'min_child_weight': 1}\n",
    "#best_with_conv = {'gamma': 0, 'learning_rate': 0.25, 'max_depth': 4, 'min_child_weight': 1}\n",
    "#best_conv_res_caps = {'gamma': 0.1, 'learning_rate': 0.2, 'max_depth': 8, 'min_child_weight': 1}\n",
    "\n",
    "xg_model = XGBClassifier(n_estimators = 1000,\n",
    "                        learning_rate = best['learning_rate'],\n",
    "                        max_depth = best['max_depth'],\n",
    "                        min_child_weight = best['min_child_weight'],\n",
    "                        gamma = best['gamma'],\n",
    "                        seed = 1234)\n",
    "start = time()\n",
    "xg_model.fit(x_train, y_train)\n",
    "xg_preds = xg_model.predict(x_valid)\n",
    "print(\"Model took %.2f seconds to complete.\" % (time()-start))\n",
    "print(\"Validation accuracy: %.4f\" % accuracy_score(y_valid, xg_preds))"
   ]
  },
  {
   "cell_type": "code",
   "execution_count": 14,
   "metadata": {},
   "outputs": [
    {
     "data": {
      "image/png": "[encoded data removed]",
      "text/plain": [
       "<Figure size 432x288 with 1 Axes>"
      ]
     },
     "metadata": {},
     "output_type": "display_data"
    }
   ],
   "source": [
    "# Most important features (models)\n",
    "xg_model.get_booster().feature_names = [\"convnet_val\",\"nasnet_val\", \"recnn_val\"]\n",
    "plot_importance(xg_model, importance_type='weight', show_values=False, title='Feature importance by weight')\n",
    "plt.show()"
   ]
  },
  {
   "cell_type": "code",
   "execution_count": 15,
   "metadata": {},
   "outputs": [
    {
     "data": {
      "text/plain": [
       "XGBClassifier(base_score=0.5, booster='gbtree', colsample_bylevel=1,\n",
       "       colsample_bynode=1, colsample_bytree=1, gamma=0.1,\n",
       "       learning_rate=0.2, max_delta_step=0, max_depth=8,\n",
       "       min_child_weight=1, missing=None, n_estimators=1000, n_jobs=1,\n",
       "       nthread=None, objective='binary:logistic', random_state=0,\n",
       "       reg_alpha=0, reg_lambda=1, scale_pos_weight=1, seed=1234,\n",
       "       silent=None, subsample=1, verbosity=1)"
      ]
     },
     "execution_count": 15,
     "metadata": {},
     "output_type": "execute_result"
    }
   ],
   "source": [
    "# Train on whole dataset\n",
    "xg_model_total = XGBClassifier(n_estimators = 1000,\n",
    "                        learning_rate = best['learning_rate'],\n",
    "                        max_depth = best['max_depth'],\n",
    "                        min_child_weight = best['min_child_weight'],\n",
    "                        gamma = best['gamma'],\n",
    "                        seed = 1234)\n",
    "xg_model_total.fit(x_total_train, y_total_train)"
   ]
  },
  {
   "cell_type": "code",
   "execution_count": 16,
   "metadata": {},
   "outputs": [],
   "source": [
    "# Predict on model\n",
    "xg_preds = xg_model_total.predict_proba(x_test)\n",
    "data = {'case': np.arange(xg_preds.shape[0]), 'prediction': np.ravel(xg_preds[:,1])}\n",
    "submission = pd.DataFrame(data=data)\n",
    "submission.to_csv('./predictions/test_xgboost_{}.csv'.format(run), index=False)"
   ]
  },
  {
   "cell_type": "code",
   "execution_count": null,
   "metadata": {},
   "outputs": [],
   "source": []
  }
 ],
 "metadata": {
  "kernelspec": {
   "display_name": "Python 3",
   "language": "python",
   "name": "python3"
  },
  "language_info": {
   "codemirror_mode": {
    "name": "ipython",
    "version": 3
   },
   "file_extension": ".py",
   "mimetype": "text/x-python",
   "name": "python",
   "nbconvert_exporter": "python",
   "pygments_lexer": "ipython3",
   "version": "3.6.8"
  }
 },
 "nbformat": 4,
 "nbformat_minor": 2
}
