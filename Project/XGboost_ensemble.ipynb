{
 "cells": [
  {
   "cell_type": "code",
   "execution_count": null,
   "metadata": {},
   "outputs": [],
   "source": [
    "import pandas as pd\n",
    "import numpy as np\n",
    "from time import time\n",
    "from data.data import load_data\n",
    "from sklearn.model_selection import GridSearchCV, train_test_split\n",
    "from xgboost import XGBRegressor\n",
    "from sklearn.metrics import accuracy_score, mean_squared_error"
   ]
  },
  {
   "cell_type": "code",
   "execution_count": null,
   "metadata": {},
   "outputs": [],
   "source": [
    "# TODO: Read prediction files and add to datas list\n",
    "convnet_val = pd.read_csv('./predictions/validation_convnet_augmentation.csv')\n",
    "recnn_val = pd.read_csv('./predictions/validation_recnn_no_augmentation.csv')\n",
    "datas = [convnet_val, recnn_val]\n",
    "\n",
    "# TODO: add test prediction files\n",
    "convnet_test = pd.read_csv('./predictions/test_convnet_augmentation.csv')\n",
    "recnn_test = pd.read_csv('./predictions/test_recnn_no_augmentation.csv')\n",
    "tests = [convnet_test, recnn_test]\n",
    "\n",
    "# Create x and y datasets\n",
    "x_total_train = np.stack(([x['prediction'] for x in datas]), axis=1)\n",
    "_, (_, y_pred_val, _), _ = load_data()\n",
    "y_total_train = np.ravel(y_pred_val)\n",
    "x_train, x_valid, y_train, y_valid = train_test_split(x_total_train, y_total_train)\n",
    "\n",
    "# Create x testset\n",
    "x_test = np.stack(([x['prediction'] for x in tests]), axis=1)"
   ]
  },
  {
   "cell_type": "code",
   "execution_count": null,
   "metadata": {},
   "outputs": [],
   "source": [
    "# Parameter tuning\n",
    "xg_model = XGBRegressor(n_estimators=100, seed = 1234, objective='reg:squarederror')\n",
    "param_dict = {'max_depth': [1,2,3,4,5],\n",
    "              'min_child_weight': [2,3,4,5,6,7],\n",
    "              'learning_rate': [0.05, 0.1,0.15],\n",
    "              'gamma': [0.0, 0.1, 0.2, 0.3, 0.4, 0.5, 0.6]\n",
    "}\n",
    "\n",
    "start = time()\n",
    "grid_search = GridSearchCV(xg_model, param_dict, cv=5, verbose=1)\n",
    "grid_search.fit(x_train, y_train)\n",
    "print(\"GridSearch took %.2f seconds to complete.\" % (time()-start))\n",
    "display(grid_search.best_params_)\n",
    "best = grid_search.best_params_"
   ]
  },
  {
   "cell_type": "code",
   "execution_count": null,
   "metadata": {},
   "outputs": [],
   "source": [
    "# Fitting the model\n",
    "xg_model = XGBRegressor(objective='reg:squarederror',\n",
    "                        n_estimators = 1000,\n",
    "                        learning_rate = best['learning_rate'],\n",
    "                        max_depth = best['max_depth'],\n",
    "                        min_child_weight = best['min_child_weight'],\n",
    "                        gamma = best['gamma'],\n",
    "                        seed = 1234)\n",
    "start = time()\n",
    "xg_model.fit(x_train, y_train)\n",
    "xg_preds = xg_model.predict(x_valid)\n",
    "print(\"Model took %.2f seconds to complete.\" % (time()-start))\n",
    "print(\"RMSE: %.4f\" % np.sqrt(mean_squared_error(y_valid, xg_preds)))"
   ]
  },
  {
   "cell_type": "code",
   "execution_count": null,
   "metadata": {},
   "outputs": [],
   "source": [
    "# Train on whole dataset\n",
    "xg_model_total = XGBRegressor(objective='reg:squarederror',\n",
    "                        n_estimators = 1000,\n",
    "                        learning_rate = best['learning_rate'],\n",
    "                        max_depth = best['max_depth'],\n",
    "                        min_child_weight = best['min_child_weight'],\n",
    "                        gamma = best['gamma'],\n",
    "                        seed = 1234)\n",
    "xg_model_total.fit(x_total_train, y_total_train)"
   ]
  },
  {
   "cell_type": "code",
   "execution_count": null,
   "metadata": {},
   "outputs": [],
   "source": [
    "# Predict on model\n",
    "xg_preds = np.expm1(xg_model_total.predict(x_test))"
   ]
  },
  {
   "cell_type": "code",
   "execution_count": null,
   "metadata": {},
   "outputs": [],
   "source": [
    "data1.to_csv('./predictions/predictions_xgboost_ensemble.csv', index=False)"
   ]
  }
 ],
 "metadata": {
  "kernelspec": {
   "display_name": "Python 3",
   "language": "python",
   "name": "python3"
  },
  "language_info": {
   "codemirror_mode": {
    "name": "ipython",
    "version": 3
   },
   "file_extension": ".py",
   "mimetype": "text/x-python",
   "name": "python",
   "nbconvert_exporter": "python",
   "pygments_lexer": "ipython3",
   "version": "3.6.8"
  }
 },
 "nbformat": 4,
 "nbformat_minor": 2
}
