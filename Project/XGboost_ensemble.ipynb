{
 "cells": [
  {
   "cell_type": "code",
   "execution_count": 2,
   "metadata": {},
   "outputs": [
    {
     "name": "stderr",
     "output_type": "stream",
     "text": [
      "Using TensorFlow backend.\n"
     ]
    }
   ],
   "source": [
    "import pandas as pd\n",
    "import numpy as np\n",
    "from time import time\n",
    "from data.data import load_data\n",
    "from sklearn.model_selection import GridSearchCV, train_test_split\n",
    "from xgboost import XGBClassifier, plot_importance\n",
    "from sklearn.metrics import accuracy_score\n",
    "import seaborn as sns\n",
    "import matplotlib.pyplot as plt"
   ]
  },
  {
   "cell_type": "code",
   "execution_count": 29,
   "metadata": {},
   "outputs": [],
   "source": [
    "# TODO fill this cell out\n",
    "\n",
    "# Give this run a title\n",
    "run = 'capsnet_15+capsnet_bn+convnet_old+nasnet_15+recnn_15_aug'\n",
    "#run = 'capsnet_15+capsnet_bn+convnet_15+nasnet_15+recnn_15_aug'\n",
    "\n",
    "# Add validation files\n",
    "capsnet_val = pd.read_csv('./ensemble/validation_capsnet_15epoch_aug.csv')\n",
    "capsnet_bn_val = pd.read_csv('./ensemble/validation_capsnet_bn_15epochs.csv')\n",
    "convnet_val = pd.read_csv('./ensemble/validation_convnet_augmentation.csv')\n",
    "nasnet_val = pd.read_csv('./ensemble/validation_Nasnet_15epoch_aug.csv')\n",
    "recnn_val = pd.read_csv('./ensemble/validation_recnn_15epoch_aug_regenerated.csv')\n",
    "#datas = [capsnet_val, capsnet_bn_val, convnet_val, nasnet_val, recnn_val]\n",
    "datas = [capsnet_val, capsnet_bn_val, convnet_val, nasnet_val, recnn_val]\n",
    "\n",
    "# Add test files\n",
    "capsnet_test = pd.read_csv('./ensemble/test_capsnet_15epoch_aug.csv')\n",
    "capsnet_bn_test = pd.read_csv('./ensemble/test_capsnet_bn_15epochs.csv')\n",
    "convnet_test = pd.read_csv('./ensemble/test_convnet_augmentation.csv')\n",
    "nasnet_test = pd.read_csv('./ensemble/test_Nasnet_15epoch_aug.csv')\n",
    "recnn_test = pd.read_csv('./ensemble/test_recnn_15epoch_augmentation.csv')\n",
    "#tests = [capsnet_test, capsnet_bn_test, convnet_test, nasnet_test, recnn_test]\n",
    "tests = [capsnet_test, capsnet_bn_test, convnet_test, nasnet_test, recnn_test]"
   ]
  },
  {
   "cell_type": "code",
   "execution_count": 19,
   "metadata": {},
   "outputs": [],
   "source": [
    "# Create x and y datasets\n",
    "x_total_train = np.stack(([x['prediction'] for x in datas]), axis=1)\n",
    "_, (_, y_pred_val, _), _ = load_data()\n",
    "y_total_train = np.ravel(y_pred_val)\n",
    "x_train, x_valid, y_train, y_valid = train_test_split(x_total_train, y_total_train)\n",
    "\n",
    "# Create x testset\n",
    "x_test = np.stack(([x['prediction'] for x in tests]), axis=1)"
   ]
  },
  {
   "cell_type": "code",
   "execution_count": 20,
   "metadata": {},
   "outputs": [
    {
     "data": {
      "text/html": [
       "<div>\n",
       "<style scoped>\n",
       "    .dataframe tbody tr th:only-of-type {\n",
       "        vertical-align: middle;\n",
       "    }\n",
       "\n",
       "    .dataframe tbody tr th {\n",
       "        vertical-align: top;\n",
       "    }\n",
       "\n",
       "    .dataframe thead th {\n",
       "        text-align: right;\n",
       "    }\n",
       "</style>\n",
       "<table border=\"1\" class=\"dataframe\">\n",
       "  <thead>\n",
       "    <tr style=\"text-align: right;\">\n",
       "      <th></th>\n",
       "      <th>capsnet_val</th>\n",
       "      <th>capsnet_bn_val</th>\n",
       "      <th>convnet_val</th>\n",
       "      <th>nasnet_val</th>\n",
       "      <th>recnn_val</th>\n",
       "    </tr>\n",
       "  </thead>\n",
       "  <tbody>\n",
       "    <tr>\n",
       "      <th>capsnet_val</th>\n",
       "      <td>1.000000</td>\n",
       "      <td>0.880357</td>\n",
       "      <td>0.244841</td>\n",
       "      <td>0.837443</td>\n",
       "      <td>0.867651</td>\n",
       "    </tr>\n",
       "    <tr>\n",
       "      <th>capsnet_bn_val</th>\n",
       "      <td>0.880357</td>\n",
       "      <td>1.000000</td>\n",
       "      <td>0.251747</td>\n",
       "      <td>0.833739</td>\n",
       "      <td>0.863396</td>\n",
       "    </tr>\n",
       "    <tr>\n",
       "      <th>convnet_val</th>\n",
       "      <td>0.244841</td>\n",
       "      <td>0.251747</td>\n",
       "      <td>1.000000</td>\n",
       "      <td>0.261952</td>\n",
       "      <td>0.268081</td>\n",
       "    </tr>\n",
       "    <tr>\n",
       "      <th>nasnet_val</th>\n",
       "      <td>0.837443</td>\n",
       "      <td>0.833739</td>\n",
       "      <td>0.261952</td>\n",
       "      <td>1.000000</td>\n",
       "      <td>0.869997</td>\n",
       "    </tr>\n",
       "    <tr>\n",
       "      <th>recnn_val</th>\n",
       "      <td>0.867651</td>\n",
       "      <td>0.863396</td>\n",
       "      <td>0.268081</td>\n",
       "      <td>0.869997</td>\n",
       "      <td>1.000000</td>\n",
       "    </tr>\n",
       "  </tbody>\n",
       "</table>\n",
       "</div>"
      ],
      "text/plain": [
       "                capsnet_val  capsnet_bn_val  convnet_val  nasnet_val  \\\n",
       "capsnet_val        1.000000        0.880357     0.244841    0.837443   \n",
       "capsnet_bn_val     0.880357        1.000000     0.251747    0.833739   \n",
       "convnet_val        0.244841        0.251747     1.000000    0.261952   \n",
       "nasnet_val         0.837443        0.833739     0.261952    1.000000   \n",
       "recnn_val          0.867651        0.863396     0.268081    0.869997   \n",
       "\n",
       "                recnn_val  \n",
       "capsnet_val      0.867651  \n",
       "capsnet_bn_val   0.863396  \n",
       "convnet_val      0.268081  \n",
       "nasnet_val       0.869997  \n",
       "recnn_val        1.000000  "
      ]
     },
     "execution_count": 20,
     "metadata": {},
     "output_type": "execute_result"
    }
   ],
   "source": [
    "# Correlation matrix on validation files\n",
    "predictions = {'capsnet_val': capsnet_val['prediction'],\n",
    "              'capsnet_bn_val': capsnet_bn_val['prediction'],\n",
    "               'convnet_val': convnet_val['prediction'],\n",
    "              'nasnet_val': nasnet_val['prediction'],\n",
    "              'recnn_val': recnn_val['prediction']}\n",
    "df_predictions = pd.DataFrame(data=predictions) \n",
    "df_predictions.corr()"
   ]
  },
  {
   "cell_type": "code",
   "execution_count": 21,
   "metadata": {},
   "outputs": [
    {
     "data": {
      "image/png": "[encoded data removed]",
      "text/plain": [
       "<Figure size 648x648 with 2 Axes>"
      ]
     },
     "metadata": {
      "needs_background": "light"
     },
     "output_type": "display_data"
    }
   ],
   "source": [
    "# Plot validation correlations\n",
    "plt.figure(figsize=(9, 9))\n",
    "sns.set(font_scale=1.25)\n",
    "sns.heatmap(df_predictions.corr(), linewidths=1.5, annot=True, square=True, \n",
    "                fmt='.2f', annot_kws={'size': 10}, \n",
    "                yticklabels=df_predictions.columns , xticklabels=df_predictions.columns\n",
    "            )\n",
    "plt.yticks(rotation=0)\n",
    "plt.show()"
   ]
  },
  {
   "cell_type": "code",
   "execution_count": 22,
   "metadata": {},
   "outputs": [
    {
     "data": {
      "text/html": [
       "<div>\n",
       "<style scoped>\n",
       "    .dataframe tbody tr th:only-of-type {\n",
       "        vertical-align: middle;\n",
       "    }\n",
       "\n",
       "    .dataframe tbody tr th {\n",
       "        vertical-align: top;\n",
       "    }\n",
       "\n",
       "    .dataframe thead th {\n",
       "        text-align: right;\n",
       "    }\n",
       "</style>\n",
       "<table border=\"1\" class=\"dataframe\">\n",
       "  <thead>\n",
       "    <tr style=\"text-align: right;\">\n",
       "      <th></th>\n",
       "      <th>capsnet_test</th>\n",
       "      <th>capsnet_bn_test</th>\n",
       "      <th>convnet_val</th>\n",
       "      <th>nasnet_test</th>\n",
       "      <th>recnn_test</th>\n",
       "    </tr>\n",
       "  </thead>\n",
       "  <tbody>\n",
       "    <tr>\n",
       "      <th>capsnet_test</th>\n",
       "      <td>1.000000</td>\n",
       "      <td>0.854907</td>\n",
       "      <td>0.016937</td>\n",
       "      <td>0.812903</td>\n",
       "      <td>0.844752</td>\n",
       "    </tr>\n",
       "    <tr>\n",
       "      <th>capsnet_bn_test</th>\n",
       "      <td>0.854907</td>\n",
       "      <td>1.000000</td>\n",
       "      <td>0.012890</td>\n",
       "      <td>0.802340</td>\n",
       "      <td>0.831490</td>\n",
       "    </tr>\n",
       "    <tr>\n",
       "      <th>convnet_val</th>\n",
       "      <td>0.016937</td>\n",
       "      <td>0.012890</td>\n",
       "      <td>1.000000</td>\n",
       "      <td>0.017814</td>\n",
       "      <td>0.017051</td>\n",
       "    </tr>\n",
       "    <tr>\n",
       "      <th>nasnet_test</th>\n",
       "      <td>0.812903</td>\n",
       "      <td>0.802340</td>\n",
       "      <td>0.017814</td>\n",
       "      <td>1.000000</td>\n",
       "      <td>0.853192</td>\n",
       "    </tr>\n",
       "    <tr>\n",
       "      <th>recnn_test</th>\n",
       "      <td>0.844752</td>\n",
       "      <td>0.831490</td>\n",
       "      <td>0.017051</td>\n",
       "      <td>0.853192</td>\n",
       "      <td>1.000000</td>\n",
       "    </tr>\n",
       "  </tbody>\n",
       "</table>\n",
       "</div>"
      ],
      "text/plain": [
       "                 capsnet_test  capsnet_bn_test  convnet_val  nasnet_test  \\\n",
       "capsnet_test         1.000000         0.854907     0.016937     0.812903   \n",
       "capsnet_bn_test      0.854907         1.000000     0.012890     0.802340   \n",
       "convnet_val          0.016937         0.012890     1.000000     0.017814   \n",
       "nasnet_test          0.812903         0.802340     0.017814     1.000000   \n",
       "recnn_test           0.844752         0.831490     0.017051     0.853192   \n",
       "\n",
       "                 recnn_test  \n",
       "capsnet_test       0.844752  \n",
       "capsnet_bn_test    0.831490  \n",
       "convnet_val        0.017051  \n",
       "nasnet_test        0.853192  \n",
       "recnn_test         1.000000  "
      ]
     },
     "execution_count": 22,
     "metadata": {},
     "output_type": "execute_result"
    }
   ],
   "source": [
    "# Correlation matrix on test files\n",
    "predictions = {'capsnet_test': capsnet_test['prediction'],\n",
    "              'capsnet_bn_test': capsnet_bn_test['prediction'],\n",
    "               'convnet_val': convnet_val['prediction'],\n",
    "              'nasnet_test': nasnet_test['prediction'],\n",
    "              'recnn_test': recnn_test['prediction']}\n",
    "df_predictions = pd.DataFrame(data=predictions) \n",
    "df_predictions.corr()"
   ]
  },
  {
   "cell_type": "code",
   "execution_count": 23,
   "metadata": {},
   "outputs": [
    {
     "data": {
      "image/png": "[encoded data removed]",
      "text/plain": [
       "<Figure size 648x648 with 2 Axes>"
      ]
     },
     "metadata": {},
     "output_type": "display_data"
    }
   ],
   "source": [
    "# Plot correlations\n",
    "plt.figure(figsize=(9, 9))\n",
    "sns.set(font_scale=1.25)\n",
    "sns.heatmap(df_predictions.corr(), linewidths=1.5, annot=True, square=True, \n",
    "                fmt='.2f', annot_kws={'size': 10}, \n",
    "                yticklabels=df_predictions.columns , xticklabels=df_predictions.columns\n",
    "            )\n",
    "plt.yticks(rotation=0)\n",
    "plt.show()"
   ]
  },
  {
   "cell_type": "code",
   "execution_count": 24,
   "metadata": {},
   "outputs": [
    {
     "name": "stdout",
     "output_type": "stream",
     "text": [
      "Fitting 5 folds for each of 180 candidates, totalling 900 fits\n"
     ]
    },
    {
     "name": "stderr",
     "output_type": "stream",
     "text": [
      "[Parallel(n_jobs=4)]: Using backend LokyBackend with 4 concurrent workers.\n",
      "[Parallel(n_jobs=4)]: Done   5 tasks      | elapsed:    4.5s\n",
      "[Parallel(n_jobs=4)]: Done  10 tasks      | elapsed:    6.2s\n",
      "[Parallel(n_jobs=4)]: Done  17 tasks      | elapsed:    9.9s\n",
      "[Parallel(n_jobs=4)]: Done  24 tasks      | elapsed:   12.8s\n",
      "[Parallel(n_jobs=4)]: Done  33 tasks      | elapsed:   23.0s\n",
      "[Parallel(n_jobs=4)]: Done  42 tasks      | elapsed:   30.5s\n",
      "[Parallel(n_jobs=4)]: Done  53 tasks      | elapsed:   43.3s\n",
      "[Parallel(n_jobs=4)]: Done  64 tasks      | elapsed:   54.9s\n",
      "[Parallel(n_jobs=4)]: Done  77 tasks      | elapsed:  1.1min\n",
      "[Parallel(n_jobs=4)]: Done  90 tasks      | elapsed:  1.2min\n",
      "[Parallel(n_jobs=4)]: Done 105 tasks      | elapsed:  1.4min\n",
      "[Parallel(n_jobs=4)]: Done 120 tasks      | elapsed:  1.6min\n",
      "[Parallel(n_jobs=4)]: Done 137 tasks      | elapsed:  1.8min\n",
      "[Parallel(n_jobs=4)]: Done 154 tasks      | elapsed:  2.1min\n",
      "[Parallel(n_jobs=4)]: Done 173 tasks      | elapsed:  2.3min\n",
      "[Parallel(n_jobs=4)]: Done 192 tasks      | elapsed:  2.5min\n",
      "[Parallel(n_jobs=4)]: Done 213 tasks      | elapsed:  2.8min\n",
      "[Parallel(n_jobs=4)]: Done 234 tasks      | elapsed:  3.1min\n",
      "[Parallel(n_jobs=4)]: Done 257 tasks      | elapsed:  3.4min\n",
      "[Parallel(n_jobs=4)]: Done 280 tasks      | elapsed:  3.7min\n",
      "[Parallel(n_jobs=4)]: Done 305 tasks      | elapsed:  4.0min\n",
      "[Parallel(n_jobs=4)]: Done 330 tasks      | elapsed:  4.3min\n",
      "[Parallel(n_jobs=4)]: Done 357 tasks      | elapsed:  4.7min\n",
      "[Parallel(n_jobs=4)]: Done 384 tasks      | elapsed:  5.1min\n",
      "[Parallel(n_jobs=4)]: Done 413 tasks      | elapsed:  5.4min\n",
      "[Parallel(n_jobs=4)]: Done 442 tasks      | elapsed:  5.8min\n",
      "[Parallel(n_jobs=4)]: Done 473 tasks      | elapsed:  6.2min\n",
      "[Parallel(n_jobs=4)]: Done 504 tasks      | elapsed:  6.6min\n",
      "[Parallel(n_jobs=4)]: Done 537 tasks      | elapsed:  7.2min\n",
      "[Parallel(n_jobs=4)]: Done 570 tasks      | elapsed:  7.6min\n",
      "[Parallel(n_jobs=4)]: Done 605 tasks      | elapsed:  8.2min\n",
      "[Parallel(n_jobs=4)]: Done 640 tasks      | elapsed:  8.6min\n",
      "[Parallel(n_jobs=4)]: Done 677 tasks      | elapsed:  9.2min\n",
      "[Parallel(n_jobs=4)]: Done 714 tasks      | elapsed:  9.6min\n",
      "[Parallel(n_jobs=4)]: Done 753 tasks      | elapsed: 10.2min\n",
      "[Parallel(n_jobs=4)]: Done 792 tasks      | elapsed: 10.6min\n",
      "[Parallel(n_jobs=4)]: Done 833 tasks      | elapsed: 11.2min\n",
      "[Parallel(n_jobs=4)]: Done 874 tasks      | elapsed: 11.7min\n",
      "[Parallel(n_jobs=4)]: Done 900 out of 900 | elapsed: 12.1min finished\n"
     ]
    },
    {
     "name": "stdout",
     "output_type": "stream",
     "text": [
      "GridSearch took 729.63 seconds to complete.\n"
     ]
    },
    {
     "data": {
      "text/plain": [
       "{'gamma': 0, 'learning_rate': 0.25, 'max_depth': 4, 'min_child_weight': 1}"
      ]
     },
     "metadata": {},
     "output_type": "display_data"
    }
   ],
   "source": [
    "# Parameter tuning\n",
    "xg_model = XGBClassifier(n_estimators=100, seed = 1234)\n",
    "param_dict = {'max_depth': [4,5,6,8,10],\n",
    "              'min_child_weight': [1,2,3],\n",
    "              'learning_rate': [0.1,0.15,0.2,0.25],\n",
    "              'gamma': [0, 0.1, 0.2]\n",
    "}\n",
    "\n",
    "start = time()\n",
    "grid_search = GridSearchCV(xg_model, param_dict, cv=5, verbose=10, n_jobs=4)\n",
    "grid_search.fit(x_train, y_train)\n",
    "print(\"GridSearch took %.2f seconds to complete.\" % (time()-start))\n",
    "display(grid_search.best_params_)\n",
    "best = grid_search.best_params_"
   ]
  },
  {
   "cell_type": "code",
   "execution_count": 25,
   "metadata": {},
   "outputs": [
    {
     "name": "stdout",
     "output_type": "stream",
     "text": [
      "Model took 11.51 seconds to complete.\n",
      "Validation accuracy: 0.9180\n"
     ]
    }
   ],
   "source": [
    "# Fitting the model\n",
    "\n",
    "#best_no_conv = {'gamma': 0.2, 'learning_rate': 0.15, 'max_depth': 10, 'min_child_weight': 1}\n",
    "#best_with_conv = {'gamma': 0, 'learning_rate': 0.25, 'max_depth': 4, 'min_child_weight': 1}\n",
    "\n",
    "xg_model = XGBClassifier(n_estimators = 1000,\n",
    "                        learning_rate = best['learning_rate'],\n",
    "                        max_depth = best['max_depth'],\n",
    "                        min_child_weight = best['min_child_weight'],\n",
    "                        gamma = best['gamma'],\n",
    "                        seed = 1234)\n",
    "start = time()\n",
    "xg_model.fit(x_train, y_train)\n",
    "xg_preds = xg_model.predict(x_valid)\n",
    "print(\"Model took %.2f seconds to complete.\" % (time()-start))\n",
    "print(\"Validation accuracy: %.4f\" % accuracy_score(y_valid, xg_preds))"
   ]
  },
  {
   "cell_type": "code",
   "execution_count": 28,
   "metadata": {},
   "outputs": [
    {
     "data": {
      "image/png": "[encoded data removed]",
      "text/plain": [
       "<Figure size 432x288 with 1 Axes>"
      ]
     },
     "metadata": {},
     "output_type": "display_data"
    }
   ],
   "source": [
    "# Most important features (models)\n",
    "xg_model.get_booster().feature_names = [\"capsnet_val\", \"capsnet_bn_val\", \"convnet_val\",\"nasnet_val\", \"recnn_val\"]\n",
    "plot_importance(xg_model, importance_type='gain', show_values=False, title='Feature importance by gain')\n",
    "plt.show()"
   ]
  },
  {
   "cell_type": "code",
   "execution_count": 30,
   "metadata": {},
   "outputs": [
    {
     "data": {
      "text/plain": [
       "XGBClassifier(base_score=0.5, booster='gbtree', colsample_bylevel=1,\n",
       "       colsample_bynode=1, colsample_bytree=1, gamma=0, learning_rate=0.25,\n",
       "       max_delta_step=0, max_depth=4, min_child_weight=1, missing=None,\n",
       "       n_estimators=1000, n_jobs=1, nthread=None,\n",
       "       objective='binary:logistic', random_state=0, reg_alpha=0,\n",
       "       reg_lambda=1, scale_pos_weight=1, seed=1234, silent=None,\n",
       "       subsample=1, verbosity=1)"
      ]
     },
     "execution_count": 30,
     "metadata": {},
     "output_type": "execute_result"
    }
   ],
   "source": [
    "# Train on whole dataset\n",
    "xg_model_total = XGBClassifier(n_estimators = 1000,\n",
    "                        learning_rate = best['learning_rate'],\n",
    "                        max_depth = best['max_depth'],\n",
    "                        min_child_weight = best['min_child_weight'],\n",
    "                        gamma = best['gamma'],\n",
    "                        seed = 1234)\n",
    "xg_model_total.fit(x_total_train, y_total_train)"
   ]
  },
  {
   "cell_type": "code",
   "execution_count": 31,
   "metadata": {},
   "outputs": [],
   "source": [
    "# Predict on model\n",
    "xg_preds = xg_model_total.predict_proba(x_test)\n",
    "data = {'case': np.arange(xg_preds.shape[0]), 'prediction': np.ravel(xg_preds[:,1])}\n",
    "submission = pd.DataFrame(data=data)\n",
    "submission.to_csv('./predictions/test_xgboost_{}.csv'.format(run), index=False)"
   ]
  },
  {
   "cell_type": "code",
   "execution_count": null,
   "metadata": {},
   "outputs": [],
   "source": []
  }
 ],
 "metadata": {
  "kernelspec": {
   "display_name": "Python 3",
   "language": "python",
   "name": "python3"
  },
  "language_info": {
   "codemirror_mode": {
    "name": "ipython",
    "version": 3
   },
   "file_extension": ".py",
   "mimetype": "text/x-python",
   "name": "python",
   "nbconvert_exporter": "python",
   "pygments_lexer": "ipython3",
   "version": "3.6.8"
  }
 },
 "nbformat": 4,
 "nbformat_minor": 2
}
