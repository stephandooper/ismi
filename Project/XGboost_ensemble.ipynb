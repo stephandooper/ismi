{
 "cells": [
  {
   "cell_type": "code",
   "execution_count": 1,
   "metadata": {},
   "outputs": [
    {
     "name": "stderr",
     "output_type": "stream",
     "text": [
      "Using TensorFlow backend.\n"
     ]
    }
   ],
   "source": [
    "import pandas as pd\n",
    "import numpy as np\n",
    "from time import time\n",
    "from data.data import load_data\n",
    "from sklearn.model_selection import GridSearchCV, train_test_split\n",
    "from xgboost import XGBRegressor, plot_importance\n",
    "from sklearn.metrics import accuracy_score, mean_squared_error\n",
    "import seaborn as sns\n",
    "import matplotlib.pyplot as plt"
   ]
  },
  {
   "cell_type": "code",
   "execution_count": 3,
   "metadata": {},
   "outputs": [],
   "source": [
    "# TODO fill this cell out\n",
    "\n",
    "# Give this run a title\n",
    "run = 'capsnet_15+recnn_no_aug'\n",
    "\n",
    "# Add validation files\n",
    "recnn_with_val = pd.read_csv('./predictions/validation_recnn_augmentation_5epochs.csv')\n",
    "recnn_no_val = pd.read_csv('./predictions/validation_recnn_no_augmentation_5epochs.csv')\n",
    "datas = [recnn_with_val, recnn_no_val]\n",
    "\n",
    "# Add test files\n",
    "capsnet_test = pd.read_csv('./predictions/test_capsnet_15epochs.csv')\n",
    "recnn_test = pd.read_csv('./predictions/test_recnn_no_augmentation.csv')\n",
    "tests = [capsnet_test, recnn_test]"
   ]
  },
  {
   "cell_type": "code",
   "execution_count": null,
   "metadata": {},
   "outputs": [],
   "source": [
    "# Create x and y datasets\n",
    "x_total_train = np.stack(([x['prediction'] for x in datas]), axis=1)\n",
    "_, (_, y_pred_val, _), _ = load_data()\n",
    "y_total_train = np.ravel(y_pred_val)\n",
    "x_train, x_valid, y_train, y_valid = train_test_split(x_total_train, y_total_train)\n",
    "\n",
    "# Create x testset\n",
    "x_test = np.stack(([x['prediction'] for x in tests]), axis=1)"
   ]
  },
  {
   "cell_type": "code",
   "execution_count": 4,
   "metadata": {},
   "outputs": [
    {
     "name": "stdout",
     "output_type": "stream",
     "text": [
      "       recnn_with_val  recnn_no_val\n",
      "0            0.055403      0.023356\n",
      "1            0.710628      0.727544\n",
      "2            0.998516      0.999013\n",
      "3            0.132898      0.166737\n",
      "4            0.386734      0.109362\n",
      "5            0.111145      0.035985\n",
      "6            0.960908      0.827009\n",
      "7            0.789955      0.384791\n",
      "8            0.810465      0.439907\n",
      "9            0.879033      0.942454\n",
      "10           0.450621      0.195614\n",
      "11           0.996532      0.958564\n",
      "12           0.995516      0.916550\n",
      "13           0.026389      0.008990\n",
      "14           0.968775      0.913299\n",
      "15           0.969095      0.242576\n",
      "16           0.993594      0.330594\n",
      "17           0.499537      0.054772\n",
      "18           0.021203      0.005226\n",
      "19           0.109803      0.118720\n",
      "20           0.844206      0.687592\n",
      "21           0.711098      0.352679\n",
      "22           0.944874      0.984347\n",
      "23           0.996091      0.561615\n",
      "24           0.367634      0.165262\n",
      "25           0.835607      0.898551\n",
      "26           0.011978      0.005590\n",
      "27           0.968549      0.813796\n",
      "28           0.764531      0.553698\n",
      "29           0.974649      0.596611\n",
      "...               ...           ...\n",
      "32738        0.153806      0.010692\n",
      "32739        0.988699      0.882890\n",
      "32740        0.999821      0.999999\n",
      "32741        0.049798      0.067471\n",
      "32742        0.030525      0.010525\n",
      "32743        0.087648      0.023467\n",
      "32744        0.099132      0.028609\n",
      "32745        0.793610      0.196498\n",
      "32746        0.956686      0.721585\n",
      "32747        0.492895      0.268578\n",
      "32748        0.210460      0.044532\n",
      "32749        0.033359      0.024231\n",
      "32750        0.027542      0.028871\n",
      "32751        0.025648      0.022636\n",
      "32752        0.827688      0.072488\n",
      "32753        0.361786      0.128998\n",
      "32754        0.144848      0.201478\n",
      "32755        0.898031      0.792631\n",
      "32756        0.069244      0.017043\n",
      "32757        0.789930      0.610223\n",
      "32758        0.822957      0.698684\n",
      "32759        0.042272      0.015622\n",
      "32760        0.025310      0.018872\n",
      "32761        0.621082      0.383341\n",
      "32762        0.021597      0.004908\n",
      "32763        0.508051      0.538713\n",
      "32764        0.974358      0.862270\n",
      "32765        0.995664      0.919251\n",
      "32766        0.045567      0.036039\n",
      "32767        0.779263      0.431772\n",
      "\n",
      "[32768 rows x 2 columns]\n"
     ]
    },
    {
     "data": {
      "text/html": [
       "<div>\n",
       "<style scoped>\n",
       "    .dataframe tbody tr th:only-of-type {\n",
       "        vertical-align: middle;\n",
       "    }\n",
       "\n",
       "    .dataframe tbody tr th {\n",
       "        vertical-align: top;\n",
       "    }\n",
       "\n",
       "    .dataframe thead th {\n",
       "        text-align: right;\n",
       "    }\n",
       "</style>\n",
       "<table border=\"1\" class=\"dataframe\">\n",
       "  <thead>\n",
       "    <tr style=\"text-align: right;\">\n",
       "      <th></th>\n",
       "      <th>recnn_with_val</th>\n",
       "      <th>recnn_no_val</th>\n",
       "    </tr>\n",
       "  </thead>\n",
       "  <tbody>\n",
       "    <tr>\n",
       "      <th>recnn_with_val</th>\n",
       "      <td>1.000000</td>\n",
       "      <td>0.860821</td>\n",
       "    </tr>\n",
       "    <tr>\n",
       "      <th>recnn_no_val</th>\n",
       "      <td>0.860821</td>\n",
       "      <td>1.000000</td>\n",
       "    </tr>\n",
       "  </tbody>\n",
       "</table>\n",
       "</div>"
      ],
      "text/plain": [
       "                recnn_with_val  recnn_no_val\n",
       "recnn_with_val        1.000000      0.860821\n",
       "recnn_no_val          0.860821      1.000000"
      ]
     },
     "execution_count": 4,
     "metadata": {},
     "output_type": "execute_result"
    }
   ],
   "source": [
    "# Correlation matrix on validation files\n",
    "predictions = {'recnn_with_val': recnn_with_val['prediction'],\n",
    "              'recnn_no_val': recnn_no_val['prediction']}\n",
    "df_predictions = pd.DataFrame(data=predictions) \n",
    "print(df_predictions)\n",
    "df_predictions.corr()"
   ]
  },
  {
   "cell_type": "code",
   "execution_count": 23,
   "metadata": {},
   "outputs": [
    {
     "name": "stdout",
     "output_type": "stream",
     "text": [
      "       capsnet_test  recnn_test\n",
      "0          0.029178    0.033336\n",
      "1          0.907967    0.886647\n",
      "2          0.144129    0.837238\n",
      "3          0.994295    0.998243\n",
      "4          0.818221    0.444659\n",
      "5          0.051123    0.154733\n",
      "6          0.823591    0.820602\n",
      "7          0.925199    0.766559\n",
      "8          0.992223    0.947977\n",
      "9          0.022722    0.136316\n",
      "10         0.932151    0.812460\n",
      "11         0.039872    0.019377\n",
      "12         0.991304    0.999999\n",
      "13         0.992727    0.999943\n",
      "14         0.046677    0.383871\n",
      "15         0.029529    0.120907\n",
      "16         0.304270    0.558578\n",
      "17         0.934351    0.611232\n",
      "18         0.327635    0.078943\n",
      "19         0.817651    0.079178\n",
      "20         0.454540    0.161669\n",
      "21         0.025928    0.076034\n",
      "22         0.218414    0.094110\n",
      "23         0.025562    0.125849\n",
      "24         0.018043    0.004660\n",
      "25         0.169356    0.540050\n",
      "26         0.964619    0.890994\n",
      "27         0.024576    0.072558\n",
      "28         0.992779    0.999993\n",
      "29         0.234256    0.171548\n",
      "...             ...         ...\n",
      "32738      0.995241    0.945902\n",
      "32739      0.737693    0.110019\n",
      "32740      0.984615    0.987536\n",
      "32741      0.073616    0.113578\n",
      "32742      0.027761    0.042916\n",
      "32743      0.985578    0.993834\n",
      "32744      0.974038    0.908913\n",
      "32745      0.032668    0.417539\n",
      "32746      0.967680    0.918773\n",
      "32747      0.617316    0.903922\n",
      "32748      0.995299    0.999889\n",
      "32749      0.992656    0.995126\n",
      "32750      0.030326    0.054216\n",
      "32751      0.052414    0.236745\n",
      "32752      0.054889    0.550287\n",
      "32753      0.969970    0.828548\n",
      "32754      0.154289    0.389735\n",
      "32755      0.861884    0.888236\n",
      "32756      0.982747    0.635880\n",
      "32757      0.932892    0.380080\n",
      "32758      0.993711    1.000000\n",
      "32759      0.022523    0.008973\n",
      "32760      0.875274    0.013105\n",
      "32761      0.933871    0.012202\n",
      "32762      0.673645    0.896175\n",
      "32763      0.967306    0.999998\n",
      "32764      0.986920    0.440510\n",
      "32765      0.993995    0.946988\n",
      "32766      0.765146    0.243433\n",
      "32767      0.018981    0.197561\n",
      "\n",
      "[32768 rows x 2 columns]\n"
     ]
    },
    {
     "data": {
      "text/html": [
       "<div>\n",
       "<style scoped>\n",
       "    .dataframe tbody tr th:only-of-type {\n",
       "        vertical-align: middle;\n",
       "    }\n",
       "\n",
       "    .dataframe tbody tr th {\n",
       "        vertical-align: top;\n",
       "    }\n",
       "\n",
       "    .dataframe thead th {\n",
       "        text-align: right;\n",
       "    }\n",
       "</style>\n",
       "<table border=\"1\" class=\"dataframe\">\n",
       "  <thead>\n",
       "    <tr style=\"text-align: right;\">\n",
       "      <th></th>\n",
       "      <th>capsnet_test</th>\n",
       "      <th>recnn_test</th>\n",
       "    </tr>\n",
       "  </thead>\n",
       "  <tbody>\n",
       "    <tr>\n",
       "      <th>capsnet_test</th>\n",
       "      <td>1.000000</td>\n",
       "      <td>0.790768</td>\n",
       "    </tr>\n",
       "    <tr>\n",
       "      <th>recnn_test</th>\n",
       "      <td>0.790768</td>\n",
       "      <td>1.000000</td>\n",
       "    </tr>\n",
       "  </tbody>\n",
       "</table>\n",
       "</div>"
      ],
      "text/plain": [
       "              capsnet_test  recnn_test\n",
       "capsnet_test      1.000000    0.790768\n",
       "recnn_test        0.790768    1.000000"
      ]
     },
     "execution_count": 23,
     "metadata": {},
     "output_type": "execute_result"
    }
   ],
   "source": [
    "# Correlation matrix on test files\n",
    "predictions = {'capsnet_test': capsnet_test['prediction'],\n",
    "              'recnn_test': recnn_test['prediction']}\n",
    "df_predictions = pd.DataFrame(data=predictions) \n",
    "print(df_predictions)\n",
    "df_predictions.corr()"
   ]
  },
  {
   "cell_type": "code",
   "execution_count": 13,
   "metadata": {},
   "outputs": [
    {
     "data": {
      "image/png": "[encoded data removed]",
      "text/plain": [
       "<Figure size 648x648 with 2 Axes>"
      ]
     },
     "metadata": {},
     "output_type": "display_data"
    }
   ],
   "source": [
    "# Plot correlations\n",
    "plt.figure(figsize=(9, 9))\n",
    "sns.set(font_scale=1.25)\n",
    "sns.heatmap(df_predictions.corr(), linewidths=1.5, annot=True, square=True, \n",
    "                fmt='.2f', annot_kws={'size': 10}, \n",
    "                yticklabels=df_predictions.columns , xticklabels=df_predictions.columns\n",
    "            )\n",
    "plt.yticks(rotation=0)\n",
    "plt.show()"
   ]
  },
  {
   "cell_type": "code",
   "execution_count": 6,
   "metadata": {},
   "outputs": [
    {
     "name": "stdout",
     "output_type": "stream",
     "text": [
      "Fitting 5 folds for each of 54 candidates, totalling 270 fits\n"
     ]
    },
    {
     "name": "stderr",
     "output_type": "stream",
     "text": [
      "[Parallel(n_jobs=1)]: Using backend SequentialBackend with 1 concurrent workers.\n",
      "[Parallel(n_jobs=1)]: Done 270 out of 270 | elapsed:  2.2min finished\n"
     ]
    },
    {
     "name": "stdout",
     "output_type": "stream",
     "text": [
      "GridSearch took 132.13 seconds to complete.\n"
     ]
    },
    {
     "data": {
      "text/plain": [
       "{'gamma': 0.4, 'learning_rate': 0.15, 'max_depth': 2, 'min_child_weight': 5}"
      ]
     },
     "metadata": {},
     "output_type": "display_data"
    }
   ],
   "source": [
    "# Parameter tuning\n",
    "xg_model = XGBRegressor(n_estimators=100, seed = 1234, objective='reg:squarederror')\n",
    "param_dict = {'max_depth': [2,3,4],\n",
    "              'min_child_weight': [3,4,5],\n",
    "              'learning_rate': [0.1,0.15],\n",
    "              'gamma': [0.2, 0.3, 0.4]\n",
    "}\n",
    "\n",
    "start = time()\n",
    "grid_search = GridSearchCV(xg_model, param_dict, cv=5, verbose=1)\n",
    "grid_search.fit(x_train, y_train)\n",
    "print(\"GridSearch took %.2f seconds to complete.\" % (time()-start))\n",
    "display(grid_search.best_params_)\n",
    "best = grid_search.best_params_"
   ]
  },
  {
   "cell_type": "code",
   "execution_count": 7,
   "metadata": {},
   "outputs": [
    {
     "name": "stdout",
     "output_type": "stream",
     "text": [
      "Model took 4.25 seconds to complete.\n",
      "RMSE: 0.5001\n"
     ]
    }
   ],
   "source": [
    "# Fitting the model\n",
    "xg_model = XGBRegressor(objective='reg:squarederror',\n",
    "                        n_estimators = 1000,\n",
    "                        learning_rate = best['learning_rate'],\n",
    "                        max_depth = best['max_depth'],\n",
    "                        min_child_weight = best['min_child_weight'],\n",
    "                        gamma = best['gamma'],\n",
    "                        seed = 1234)\n",
    "start = time()\n",
    "xg_model.fit(x_train, y_train)\n",
    "xg_preds = xg_model.predict(x_valid)\n",
    "print(\"Model took %.2f seconds to complete.\" % (time()-start))\n",
    "print(\"RMSE: %.4f\" % np.sqrt(mean_squared_error(y_valid, xg_preds)))"
   ]
  },
  {
   "cell_type": "code",
   "execution_count": 10,
   "metadata": {},
   "outputs": [
    {
     "data": {
      "image/png": "[encoded data removed]",
      "text/plain": [
       "<Figure size 432x288 with 1 Axes>"
      ]
     },
     "metadata": {
      "needs_background": "light"
     },
     "output_type": "display_data"
    }
   ],
   "source": [
    "# Most important features (models)\n",
    "plot_importance(xg_model)\n",
    "plt.show()"
   ]
  },
  {
   "cell_type": "code",
   "execution_count": 24,
   "metadata": {},
   "outputs": [
    {
     "data": {
      "text/plain": [
       "XGBRegressor(base_score=0.5, booster='gbtree', colsample_bylevel=1,\n",
       "       colsample_bynode=1, colsample_bytree=1, gamma=0.4,\n",
       "       importance_type='gain', learning_rate=0.15, max_delta_step=0,\n",
       "       max_depth=2, min_child_weight=5, missing=None, n_estimators=1000,\n",
       "       n_jobs=1, nthread=None, objective='reg:squarederror',\n",
       "       random_state=0, reg_alpha=0, reg_lambda=1, scale_pos_weight=1,\n",
       "       seed=1234, silent=None, subsample=1, verbosity=1)"
      ]
     },
     "execution_count": 24,
     "metadata": {},
     "output_type": "execute_result"
    }
   ],
   "source": [
    "# Train on whole dataset\n",
    "xg_model_total = XGBRegressor(objective='reg:squarederror',\n",
    "                        n_estimators = 1000,\n",
    "                        learning_rate = best['learning_rate'],\n",
    "                        max_depth = best['max_depth'],\n",
    "                        min_child_weight = best['min_child_weight'],\n",
    "                        gamma = best['gamma'],\n",
    "                        seed = 1234)\n",
    "xg_model_total.fit(x_total_train, y_total_train)"
   ]
  },
  {
   "cell_type": "code",
   "execution_count": 31,
   "metadata": {},
   "outputs": [],
   "source": [
    "# Predict on model\n",
    "xg_preds = np.expm1(xg_model_total.predict(x_test))\n",
    "np.savetxt('./predictions/predictions_xgboost_ensemble'+run+'.csv', xg_preds, delimiter=\",\")"
   ]
  },
  {
   "cell_type": "code",
   "execution_count": null,
   "metadata": {},
   "outputs": [],
   "source": []
  }
 ],
 "metadata": {
  "kernelspec": {
   "display_name": "Python 3",
   "language": "python",
   "name": "python3"
  },
  "language_info": {
   "codemirror_mode": {
    "name": "ipython",
    "version": 3
   },
   "file_extension": ".py",
   "mimetype": "text/x-python",
   "name": "python",
   "nbconvert_exporter": "python",
   "pygments_lexer": "ipython3",
   "version": "3.6.8"
  }
 },
 "nbformat": 4,
 "nbformat_minor": 2
}
