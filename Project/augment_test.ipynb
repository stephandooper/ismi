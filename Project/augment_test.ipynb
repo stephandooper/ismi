{
 "cells": [
  {
   "cell_type": "markdown",
   "metadata": {},
   "source": [
    "# Histopathologic Cancer Detection: Check.\n",
    "In this competition, you must create an algorithm to identify metastatic cancer in small image patches taken from larger digital pathology scans. The data for this competition is a slightly modified version of the PatchCamelyon (PCam) benchmark dataset (the original PCam dataset contains duplicate images due to its probabilistic sampling, however, the version presented on Kaggle does not contain duplicates).\n",
    "\n",
    "PCam is highly interesting for both its size, simplicity to get started on, and approachability. In the authors' words:\n",
    "\n",
    "[PCam] packs the clinically-relevant task of metastasis detection into a straight-forward binary image classification task, akin to CIFAR-10 and MNIST. Models can easily be trained on a single GPU in a couple hours, and achieve competitive scores in the Camelyon16 tasks of tumor detection and whole-slide image diagnosis. Furthermore, the balance between task-difficulty and tractability makes it a prime suspect for fundamental machine learning research on topics as active learning, model uncertainty, and explainability. "
   ]
  },
  {
   "cell_type": "markdown",
   "metadata": {},
   "source": [
    "Challenges\n",
    "* Normalize staining (https://towardsdatascience.com/image-augmentation-for-deep-learning-using-keras-and-histogram-equalization-9329f6ae5085)\n",
    "* "
   ]
  },
  {
   "cell_type": "code",
   "execution_count": 1,
   "metadata": {},
   "outputs": [
    {
     "name": "stderr",
     "output_type": "stream",
     "text": [
      "D:\\Users\\Stephan\\Anaconda3\\envs\\py35\\lib\\site-packages\\h5py\\__init__.py:36: FutureWarning: Conversion of the second argument of issubdtype from `float` to `np.floating` is deprecated. In future, it will be treated as `np.float64 == np.dtype(float).type`.\n",
      "  from ._conv import register_converters as _register_converters\n",
      "Using TensorFlow backend.\n"
     ]
    }
   ],
   "source": [
    "import pandas as pd\n",
    "import numpy as np\n",
    "import matplotlib.pyplot as plt\n",
    "import seaborn as sns\n",
    "from PIL import Image\n",
    "import os\n",
    "from time import time\n",
    "from tqdm import tqdm_notebook\n",
    "import matplotlib\n",
    "\n",
    "from keras.layers import Input, Dense, Flatten, Conv2D\n",
    "from keras.models import Model\n",
    "from keras.preprocessing.image import ImageDataGenerator\n",
    "from keras.callbacks import TensorBoard\n",
    "\n",
    "from skimage import exposure\n",
    "from generators.augment import augmentor, show_augmentations"
   ]
  },
  {
   "cell_type": "code",
   "execution_count": 2,
   "metadata": {},
   "outputs": [],
   "source": [
    "BATCH_SIZE = 32\n",
    "ONLY_USE_SUBSET = True # Set to true when running locally\n",
    "DIMENSIONS = (96, 96)"
   ]
  },
  {
   "cell_type": "markdown",
   "metadata": {},
   "source": [
    "## Importing dataset\n",
    "In this dataset, you are provided with a large number of small pathology images to classify. Files are named with an image id. The train_labels.csv file provides the ground truth for the images in the train folder. You are predicting the labels for the images in the test folder. A positive label indicates that the center 32x32px region of a patch contains at least one pixel of tumor tissue. Tumor tissue in the outer region of the patch does not influence the label. This outer region is provided to enable fully-convolutional models that do not use zero-padding, to ensure consistent behavior when applied to a whole-slide image.\n",
    "\n",
    "The original PCam dataset contains duplicate images due to its probabilistic sampling, however, the version presented on Kaggle does not contain duplicates. We have otherwise maintained the same data and splits as the PCam benchmark."
   ]
  },
  {
   "cell_type": "code",
   "execution_count": null,
   "metadata": {},
   "outputs": [],
   "source": [
    "(x_train, y_train, meta_train), (x_valid, y_valid, meta_valid), (x_test, y_test, meta_test) = load_data()"
   ]
  },
  {
   "cell_type": "code",
   "execution_count": null,
   "metadata": {},
   "outputs": [],
   "source": [
    "# bit for the image augmentation\n",
    "\n",
    "# -*- coding: utf-8 -*-\n",
    "\"\"\"\n",
    "Created on Mon May  6 17:14:07 2019\n",
    "\n",
    "@author: Stephan\n",
    "\"\"\"\n",
    "\n",
    "import numpy as np\n",
    "import matplotlib.pyplot as plt\n",
    "from PIL import Image\n",
    "from imgaug import augmenters as iaa\n",
    "\n",
    "\n",
    "im = Image.open(data_dir)\n",
    "plt.imshow(im)\n",
    "\n",
    "img = np.array(im)\n",
    "\n",
    "# Basic image augmentations\n",
    "\n",
    "''' \n",
    "To think about:\n",
    "    1. In what way does it extend one augmentation extend another?\n",
    "    2. Do they (randomly) apply augmentation on top of augmentation? or something else?\n",
    "'''\n",
    "\n",
    "\n",
    "# BASIC DONE\n",
    "'''\n",
    "basic: \n",
    "    Operations\n",
    "    ---\n",
    "        1. 90 degree rotations\n",
    "        2. horizontal/vertical image mirroring\n",
    "'''\n",
    "\n",
    "basic = iaa.Sequential( [iaa.Affine(rotate=90) ,iaa.Fliplr(1), iaa.Flipud(1)])\n",
    "\n",
    "basic_img = basic.augment_image(img)\n",
    "\n",
    "\n",
    "\n",
    "'''\n",
    "Morphology\n",
    "    Operations\n",
    "    ---\n",
    "        1. scaling\n",
    "        2. elastic deformation\n",
    "        3. additive Gaussian noise (perturbing the signal-to-noise ratio), \n",
    "        4. Gaussian blurring (simulating out-of-focus artifacts).\n",
    "'''\n",
    "\n",
    "morphology = iaa.Sequential([iaa.GaussianBlur(sigma=0.35), \n",
    "                             iaa.AdditiveGaussianNoise(scale=0.05*255),\n",
    "                             iaa.ElasticTransformation(alpha=0.35, sigma=0.5),\n",
    "                             iaa.Affine(scale=(1, 1.5))])\n",
    "\n",
    "morph_img = morphology.augment_image(img)\n",
    "plt.imshow(img)\n",
    "plt.imshow(morph_img )\n",
    "\n",
    "'''\n",
    "Brightness & Contract (BC)\n",
    "    Operations\n",
    "    ---\n",
    "        1. Random brightness image perturbations\n",
    "        2. Random contrast image perturbations\n",
    "        3. Haeberli and Voorhies (1994)\n",
    "\n",
    "'''\n",
    "\n",
    "bc = iaa.Sequential([iaa.ContrastNormalization((0.75, 1.25)), \n",
    "                     iaa.Multiply((0.5, 1.5))])\n",
    "bc_img = bc.augment_image(img)\n",
    "\n",
    "plt.imshow(img)\n",
    "plt.imshow(bc_img)\n",
    "\n",
    "'''\n",
    "Hue Saturation Value (HSV)\n",
    "    Operations\n",
    "    ---\n",
    "        1. Randomly shifting hue and saturations channels in the HSV color space\n",
    "        2. Color variation strength: light and strong\n",
    "        3. Van der Walt et al. 2014\n",
    "        \n",
    "\n",
    "'''\n",
    "\n",
    "#Values are kind of extreme\n",
    "\n",
    "hsv = iaa.WithColorspace(\n",
    "    to_colorspace=\"HSV\",\n",
    "    from_colorspace=\"RGB\",\n",
    "    children=iaa.Sequential([iaa.WithChannels((1), iaa.Add((-100, 150))),\n",
    "                         iaa.WithChannels((0), iaa.Add((-100, 150)))])\n",
    ")\n",
    "\n",
    "\n",
    "hsv_image = hsv.augment_image(img)\n",
    "\n",
    "plt.imshow(hsv_image)\n",
    "plt.imshow(img)"
   ]
  }
 ],
 "metadata": {
  "kernelspec": {
   "display_name": "Python 3",
   "language": "python",
   "name": "python3"
  },
  "language_info": {
   "codemirror_mode": {
    "name": "ipython",
    "version": 3
   },
   "file_extension": ".py",
   "mimetype": "text/x-python",
   "name": "python",
   "nbconvert_exporter": "python",
   "pygments_lexer": "ipython3",
   "version": "3.5.5"
  }
 },
 "nbformat": 4,
 "nbformat_minor": 2
}
